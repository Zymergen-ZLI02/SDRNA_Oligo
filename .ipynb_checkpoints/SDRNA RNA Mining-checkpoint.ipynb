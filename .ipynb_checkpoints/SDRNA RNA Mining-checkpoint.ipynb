{
 "cells": [
  {
   "cell_type": "code",
   "execution_count": 2,
   "metadata": {},
   "outputs": [],
   "source": [
    "import os\n",
    "from Bio import SeqIO\n",
    "from pathlib import Path"
   ]
  },
  {
   "cell_type": "code",
   "execution_count": 11,
   "metadata": {},
   "outputs": [
    {
     "name": "stdout",
     "output_type": "stream",
     "text": [
      "type: rRNA\n",
      "location: [451785:455181](-)\n",
      "qualifiers:\n",
      "    Key: db_xref, Value: ['SGD:S000006484']\n",
      "    Key: experiment, Value: ['EXISTENCE:direct assay:GO:0006457 protein folding [PMID:23673663]', 'EXISTENCE:mutant phenotype:GO:0006413 translational initiation [PMID:26824023]', 'EXISTENCE:mutant phenotype:GO:0006414 translational elongation [PMID:26824023]', 'EXISTENCE:mutant phenotype:GO:0006450 regulation of translational fidelity [PMID:8608449]']\n",
      "    Key: locus_tag, Value: ['RDN25-1']\n",
      "    Key: note, Value: ['25S ribosomal RNA (25S rRNA); component of the large (60S) ribosomal subunit; encoded in the rDNA repeat (RDN1) as part of the 35S primary transcript; formed by endonucleolytic cleavage at the C2 site of internal transcribed spacer 2 (ITS2)']\n",
      "    Key: product, Value: ['25S ribosomal RNA']\n",
      "\n"
     ]
    },
    {
     "ename": "NameError",
     "evalue": "name 'name' is not defined",
     "output_type": "error",
     "traceback": [
      "\u001b[1;31m---------------------------------------------------------------------------\u001b[0m",
      "\u001b[1;31mNameError\u001b[0m                                 Traceback (most recent call last)",
      "\u001b[1;32m<ipython-input-11-c9fb5b3ecfd2>\u001b[0m in \u001b[0;36m<module>\u001b[1;34m\u001b[0m\n\u001b[0;32m     63\u001b[0m     \u001b[0mf\u001b[0m\u001b[1;33m.\u001b[0m\u001b[0mclose\u001b[0m\u001b[1;33m(\u001b[0m\u001b[1;33m)\u001b[0m\u001b[1;33m\u001b[0m\u001b[1;33m\u001b[0m\u001b[0m\n\u001b[0;32m     64\u001b[0m \u001b[1;33m\u001b[0m\u001b[0m\n\u001b[1;32m---> 65\u001b[1;33m \u001b[0mSDRNA_RNA_Mining\u001b[0m\u001b[1;33m(\u001b[0m\u001b[1;34m\"SC 7000071044\"\u001b[0m\u001b[1;33m,\u001b[0m\u001b[1;34m\"NCBI SC S288C\"\u001b[0m\u001b[1;33m)\u001b[0m\u001b[1;33m\u001b[0m\u001b[1;33m\u001b[0m\u001b[0m\n\u001b[0m",
      "\u001b[1;32m<ipython-input-11-c9fb5b3ecfd2>\u001b[0m in \u001b[0;36mSDRNA_RNA_Mining\u001b[1;34m(folder, subfolder)\u001b[0m\n\u001b[0;32m     56\u001b[0m                         f.write(\">{0}|{1}|{2}-{3}|{4}|{5}|{6}| \\n{7}\\n\".format(acc, \n\u001b[0;32m     57\u001b[0m                                                                                \u001b[0mfeature\u001b[0m\u001b[1;33m.\u001b[0m\u001b[0mqualifiers\u001b[0m\u001b[1;33m[\u001b[0m\u001b[1;34m\"locus_tag\"\u001b[0m\u001b[1;33m]\u001b[0m\u001b[1;33m[\u001b[0m\u001b[1;36m0\u001b[0m\u001b[1;33m]\u001b[0m\u001b[1;33m,\u001b[0m\u001b[1;33m\u001b[0m\u001b[1;33m\u001b[0m\u001b[0m\n\u001b[1;32m---> 58\u001b[1;33m                                                                                \u001b[0mname\u001b[0m\u001b[1;33m,\u001b[0m\u001b[1;33m\u001b[0m\u001b[1;33m\u001b[0m\u001b[0m\n\u001b[0m\u001b[0;32m     59\u001b[0m                                                                                \u001b[0mseqstart\u001b[0m\u001b[1;33m,\u001b[0m \u001b[0mseqend\u001b[0m\u001b[1;33m,\u001b[0m \u001b[0mstrdir\u001b[0m\u001b[1;33m,\u001b[0m\u001b[1;33m\u001b[0m\u001b[1;33m\u001b[0m\u001b[0m\n\u001b[0;32m     60\u001b[0m                                                                                \u001b[0mfeature\u001b[0m\u001b[1;33m.\u001b[0m\u001b[0mqualifiers\u001b[0m\u001b[1;33m[\u001b[0m\u001b[1;34m\"db_xref\"\u001b[0m\u001b[1;33m]\u001b[0m\u001b[1;33m[\u001b[0m\u001b[1;36m0\u001b[0m\u001b[1;33m]\u001b[0m\u001b[1;33m,\u001b[0m\u001b[1;33m\u001b[0m\u001b[1;33m\u001b[0m\u001b[0m\n",
      "\u001b[1;31mNameError\u001b[0m: name 'name' is not defined"
     ]
    }
   ],
   "source": [
    "def SDRNA_RNA_Mining(folder,subfolder):\n",
    "    pathname = Path(folder + \"/\" + subfolder + \"/\")\n",
    "    filelist = os.listdir(pathname)\n",
    "    opname = folder + \" \" + subfolder + \" output.fasta\"\n",
    "    output_file = pathname / opname\n",
    "    f = open(output_file, \"w\")\n",
    "    \n",
    "    for fn in range(len(filelist)):\n",
    "        if \"gb\" in filelist[fn]: \n",
    "            gbfile = filelist[fn]\n",
    "            input_file = pathname / gbfile\n",
    "\n",
    "            for rec in SeqIO.parse(input_file, \"gb\"): \n",
    "                acc = rec.annotations['accessions'][0]\n",
    "                seq = rec.seq\n",
    "\n",
    "                for feature in rec.features:\n",
    "                    ifrrRNA = 0\n",
    "\n",
    "                    if \"rRNA\" in feature.type:\n",
    "                        ifrrRNA = 1\n",
    "                        \n",
    "                    \"\"\"\n",
    "                    else:\n",
    "                        for key, val in feature.qualifiers.items(): #looks for val in the feature qualifiers\n",
    "\n",
    "                            if (any(\"rRNA\" in s for s in val) and \n",
    "                                \"CDS\" in feature.type.upper() and \n",
    "                                (not(\"complex\" in val[0].lower() or \n",
    "                                     \"protein\" in val[0].lower()))):\n",
    "                                ifrrRNA = 1\n",
    "                                \"\"\"\n",
    "\n",
    "                    if ifrrRNA == 1:\n",
    "                        print(feature)\n",
    "\n",
    "                        seqstart = feature.location.start.position\n",
    "                        seqend = feature.location.end.position\n",
    "\n",
    "                        if feature.location.strand == 1:\n",
    "                            strdir = \"forward\"\n",
    "                            rRNAseq = seq[seqstart:seqend]\n",
    "                        elif feature.location.strand == -1:\n",
    "                            strdir = \"revcomp\"\n",
    "                            rRNAseq = seq[seqstart:seqend].reverse_complement()[::]\n",
    "                        else:\n",
    "                            strdir = \"\"\n",
    "\n",
    "                        if \"product\" in feature.qualifiers:\n",
    "                            addinfo = feature.qualifiers[\"product\"][0]\n",
    "                        elif \"note\" in feature.qualifiers:\n",
    "                            addinfo = feature.qualifiers[\"note\"][0]\n",
    "                        else:\n",
    "                            addinfo = \"\"\n",
    "\n",
    "                        f.write(\">{0}|{1}|{2}-{3}|{4}|{5}|{6}| \\n{7}\\n\".format(acc, \n",
    "                                                                               feature.qualifiers[\"locus_tag\"][0], \n",
    "                                                                               seqstart, seqend, strdir,\n",
    "                                                                               feature.qualifiers[\"db_xref\"][0],\n",
    "                                                                               addinfo, \n",
    "                                                                               rRNAseq))\n",
    "    f.close()\n",
    "    \n",
    "SDRNA_RNA_Mining(\"SC 7000071044\",\"NCBI SC S288C\")"
   ]
  },
  {
   "cell_type": "code",
   "execution_count": null,
   "metadata": {},
   "outputs": [],
   "source": [
    "\"\"\"\n",
    "import Tkinter as tk\n",
    "import tkFileDialog\n",
    "\n",
    "root = Tkinter.Tk()\n",
    "filez = tkFileDialog.askopenfilenames(parent=root,title='Choose a file')\n",
    "print root.tk.splitlist(filez)\n",
    "\n",
    "data_folder = Path(\"Project_3_Seq_Test/KP 7000772268/\")\n",
    "file_to_open = data_folder / \"13005730928.gb\"\n",
    "print(file_to_open.read_text())\n",
    "\n",
    "\n",
    "\"\"\""
   ]
  },
  {
   "cell_type": "code",
   "execution_count": null,
   "metadata": {},
   "outputs": [],
   "source": []
  }
 ],
 "metadata": {
  "kernelspec": {
   "display_name": "Python 3",
   "language": "python",
   "name": "python3"
  },
  "language_info": {
   "codemirror_mode": {
    "name": "ipython",
    "version": 3
   },
   "file_extension": ".py",
   "mimetype": "text/x-python",
   "name": "python",
   "nbconvert_exporter": "python",
   "pygments_lexer": "ipython3",
   "version": "3.8.3"
  }
 },
 "nbformat": 4,
 "nbformat_minor": 4
}
